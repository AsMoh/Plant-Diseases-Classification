{
 "cells": [
  {
   "cell_type": "code",
   "execution_count": 15,
   "id": "02ce8205",
   "metadata": {},
   "outputs": [],
   "source": [
    "from tensorflow.keras.preprocessing.image import load_img\n",
    "from tensorflow.keras.applications.xception import preprocess_input\n",
    "\n",
    "import tensorflow as tf\n",
    "\n",
    "import keras\n",
    "import numpy as np"
   ]
  },
  {
   "cell_type": "code",
   "execution_count": 16,
   "id": "c98901e7",
   "metadata": {},
   "outputs": [],
   "source": [
    "model = keras.models.load_model('xception_v1_47_0.9591.h5')"
   ]
  },
  {
   "cell_type": "code",
   "execution_count": 17,
   "id": "85d9bf72",
   "metadata": {},
   "outputs": [],
   "source": [
    "img = load_img('Cornheal.jpg', target_size=(224, 224))\n",
    "\n",
    "x = np.array(img)\n",
    "X = np.array([x])\n",
    "\n",
    "X = preprocess_input(X)"
   ]
  },
  {
   "cell_type": "code",
   "execution_count": 18,
   "id": "dfbe5220",
   "metadata": {},
   "outputs": [
    {
     "name": "stderr",
     "output_type": "stream",
     "text": [
      "WARNING:absl:Found untraced functions such as _jit_compiled_convolution_op, _jit_compiled_convolution_op, _jit_compiled_convolution_op, _jit_compiled_convolution_op, _jit_compiled_convolution_op while saving (showing 5 of 40). These functions will not be directly callable after loading.\n"
     ]
    },
    {
     "name": "stdout",
     "output_type": "stream",
     "text": [
      "INFO:tensorflow:Assets written to: C:\\Users\\Asia\\AppData\\Local\\Temp\\tmpl6w8bla2\\assets\n"
     ]
    },
    {
     "name": "stderr",
     "output_type": "stream",
     "text": [
      "INFO:tensorflow:Assets written to: C:\\Users\\Asia\\AppData\\Local\\Temp\\tmpl6w8bla2\\assets\n"
     ]
    }
   ],
   "source": [
    "converter = tf.lite.TFLiteConverter.from_keras_model(model)\n",
    "\n",
    "tflite_model = converter.convert()\n",
    "\n",
    "with open('plant-classification-model.tflite', 'wb') as f_out:\n",
    "    f_out.write(tflite_model)"
   ]
  },
  {
   "cell_type": "code",
   "execution_count": 19,
   "id": "c7b37528",
   "metadata": {},
   "outputs": [],
   "source": [
    "import tensorflow.lite as tflite"
   ]
  },
  {
   "cell_type": "code",
   "execution_count": 20,
   "id": "6b88066a",
   "metadata": {},
   "outputs": [],
   "source": [
    "interpreter = tflite.Interpreter(model_path='plant-classification-model.tflite')\n",
    "interpreter.allocate_tensors()\n",
    "\n",
    "input_index = interpreter.get_input_details()[0]['index']\n",
    "output_index = interpreter.get_output_details()[0]['index']"
   ]
  },
  {
   "cell_type": "code",
   "execution_count": 21,
   "id": "8a2460e8",
   "metadata": {},
   "outputs": [],
   "source": [
    "interpreter.set_tensor(input_index, X)\n",
    "interpreter.invoke()\n",
    "preds = interpreter.get_tensor(output_index)"
   ]
  },
  {
   "cell_type": "code",
   "execution_count": 17,
   "id": "62a8431d",
   "metadata": {},
   "outputs": [],
   "source": [
    "classes=['AppleApplescab',\n",
    " 'AppleBlackrot',\n",
    " 'AppleCedarapplerust',\n",
    " 'Applehealthy',\n",
    " 'Blueberryhealthy',\n",
    " 'Cherry(includingsour)Powderymildew',\n",
    " 'Cherry(includingsour)healthy',\n",
    " 'Corn(maize)Cercosporaleafspot Grayleafspot',\n",
    " 'Corn(maize)Commonrust',\n",
    " 'Corn(maize)NorthernLeafBlight',\n",
    " 'Corn(maize)healthy',\n",
    " 'GrapeBlackrot',\n",
    " 'GrapeEsca(BlackMeasles)',\n",
    " 'GrapeLeafblight(IsariopsisLeafSpot)',\n",
    " 'Grapehealthy',\n",
    " 'OrangeHaunglongbing(Citrusgreening)',\n",
    " 'PeachBacterialspot',\n",
    " 'Peachhealthy',\n",
    " 'Pepper,bellBacterialspot',\n",
    " 'Pepper,bellhealthy',\n",
    " 'PotatoEarlyblight',\n",
    " 'PotatoLateblight',\n",
    " 'Potatohealthy',\n",
    " 'Raspberryhealthy',\n",
    " 'Soybeanhealthy',\n",
    " 'SquashPowderymildew',\n",
    " 'StrawberryLeafscorch',\n",
    " 'Strawberryhealthy',\n",
    " 'TomatoBacterialspot',\n",
    " 'TomatoEarlyblight',\n",
    " 'TomatoLateblight',\n",
    " 'TomatoLeafMold',\n",
    " 'TomatoSeptorialeafspot',\n",
    " 'TomatoSpidermites Two-spottedspidermite',\n",
    " 'TomatoTargetSpot',\n",
    " 'TomatoTomatoYellowLeafCurlVirus',\n",
    " 'TomatoTomatomosaicvirus',\n",
    " 'Tomatohealthy']"
   ]
  },
  {
   "cell_type": "code",
   "execution_count": 24,
   "id": "b4f63ddc",
   "metadata": {},
   "outputs": [
    {
     "name": "stdout",
     "output_type": "stream",
     "text": [
      " prediction is:  Corn(maize)healthy\n"
     ]
    }
   ],
   "source": [
    "indx=np.argmax(preds)\n",
    "print(\" prediction is: \", classes[indx])"
   ]
  },
  {
   "cell_type": "markdown",
   "id": "515871be",
   "metadata": {},
   "source": [
    "--- Correct prediction."
   ]
  },
  {
   "cell_type": "code",
   "execution_count": null,
   "id": "7c836520",
   "metadata": {},
   "outputs": [],
   "source": []
  },
  {
   "cell_type": "code",
   "execution_count": 2,
   "id": "e408a11a",
   "metadata": {},
   "outputs": [
    {
     "name": "stdout",
     "output_type": "stream",
     "text": [
      "Collecting keras-image-helper\n",
      "  Using cached keras_image_helper-0.0.1-py3-none-any.whl (4.6 kB)\n",
      "Requirement already satisfied: pillow in c:\\users\\asia\\anaconda3\\lib\\site-packages (from keras-image-helper) (9.2.0)\n",
      "Requirement already satisfied: numpy in c:\\users\\asia\\anaconda3\\lib\\site-packages (from keras-image-helper) (1.21.5)\n",
      "Installing collected packages: keras-image-helper\n",
      "Successfully installed keras-image-helper-0.0.1\n"
     ]
    }
   ],
   "source": [
    "!pip install keras-image-helper"
   ]
  },
  {
   "cell_type": "code",
   "execution_count": 3,
   "id": "5a05fa6e",
   "metadata": {},
   "outputs": [
    {
     "name": "stdout",
     "output_type": "stream",
     "text": [
      "Looking in indexes: https://pypi.org/simple, https://google-coral.github.io/py-repo/\n",
      "Collecting tflite_runtime\n",
      "  Downloading https://github.com/google-coral/pycoral/releases/download/v2.0.0/tflite_runtime-2.5.0.post1-cp39-cp39-win_amd64.whl (867 kB)\n",
      "     -------------------------------------- 867.1/867.1 kB 3.4 MB/s eta 0:00:00\n",
      "Requirement already satisfied: numpy>=1.16.0 in c:\\users\\asia\\anaconda3\\lib\\site-packages (from tflite_runtime) (1.21.5)\n",
      "Installing collected packages: tflite_runtime\n",
      "Successfully installed tflite_runtime-2.5.0.post1\n"
     ]
    }
   ],
   "source": [
    "!pip install --extra-index-url https://google-coral.github.io/py-repo/ tflite_runtime"
   ]
  },
  {
   "cell_type": "code",
   "execution_count": 15,
   "id": "90b22f12",
   "metadata": {},
   "outputs": [],
   "source": [
    "from keras_image_helper import create_preprocessor \n",
    "import numpy as np"
   ]
  },
  {
   "cell_type": "code",
   "execution_count": 5,
   "id": "3e82df5c",
   "metadata": {},
   "outputs": [],
   "source": [
    "import tflite_runtime.interpreter as tflite\n"
   ]
  },
  {
   "cell_type": "code",
   "execution_count": 6,
   "id": "a9677632",
   "metadata": {},
   "outputs": [],
   "source": [
    "interpreter = tflite.Interpreter(model_path='plant-classification-model.tflite')\n",
    "interpreter.allocate_tensors()\n",
    "\n",
    "input_index = interpreter.get_input_details()[0]['index']\n",
    "output_index = interpreter.get_output_details()[0]['index']"
   ]
  },
  {
   "cell_type": "code",
   "execution_count": 7,
   "id": "35f0ad2f",
   "metadata": {},
   "outputs": [],
   "source": [
    "preprocessor = create_preprocessor('xception', target_size=(224, 224))"
   ]
  },
  {
   "cell_type": "code",
   "execution_count": 12,
   "id": "37bf4de5",
   "metadata": {},
   "outputs": [],
   "source": [
    "url = 'https://raw.githubusercontent.com/AsMoh/Plant-Diseases-Classification/main/Cornheal.jpg'\n",
    "X = preprocessor.from_url(url)"
   ]
  },
  {
   "cell_type": "code",
   "execution_count": 13,
   "id": "1e460b86",
   "metadata": {},
   "outputs": [],
   "source": [
    "interpreter.set_tensor(input_index, X)\n",
    "interpreter.invoke()\n",
    "preds = interpreter.get_tensor(output_index)"
   ]
  },
  {
   "cell_type": "code",
   "execution_count": 18,
   "id": "ab8f74d2",
   "metadata": {},
   "outputs": [
    {
     "name": "stdout",
     "output_type": "stream",
     "text": [
      " prediction is:  Corn(maize)healthy\n"
     ]
    }
   ],
   "source": [
    "indx=np.argmax(preds)\n",
    "print(\" prediction is: \", classes[indx])"
   ]
  },
  {
   "cell_type": "code",
   "execution_count": null,
   "id": "2c5f28a0",
   "metadata": {},
   "outputs": [],
   "source": []
  }
 ],
 "metadata": {
  "kernelspec": {
   "display_name": "Python 3 (ipykernel)",
   "language": "python",
   "name": "python3"
  },
  "language_info": {
   "codemirror_mode": {
    "name": "ipython",
    "version": 3
   },
   "file_extension": ".py",
   "mimetype": "text/x-python",
   "name": "python",
   "nbconvert_exporter": "python",
   "pygments_lexer": "ipython3",
   "version": "3.9.13"
  }
 },
 "nbformat": 4,
 "nbformat_minor": 5
}
